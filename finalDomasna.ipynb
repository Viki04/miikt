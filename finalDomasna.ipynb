{
 "cells": [
  {
   "cell_type": "markdown",
   "metadata": {
    "kernel": "SoS"
   },
   "source": [
    " Домашна работа по предметот Методологија на истражувањето во икт\n",
    "Индекс: 143082\n",
    "Име: Викторија\n",
    "Презиме: Голужа\n",
    "За да филтрираме слика во фреквенциски домен потребно е да ја помножиме сликата во фреквенциски домен со филтерот (кернел) кој е исто така во фреквенциски домен.\n",
    "$$ I_{f,filt} = HI_f $$\n",
    "\n",
    "За таа цел потребно е да се вметне Octave функција која ќе креира “Band pass gaussian filter” во фреквенциски домен. Bandpass гаусовиот филтер во фреквенциски домен е дефиниран со равенката:\n",
    "$$ H(i,j) = e^{\\frac{d(i,j)^2}{f_h^2}} (1 - e^{\\frac{d(i,j)^2}{f_l^2}}) $$\n",
    "Каде што 𝑑(𝑖,𝑗) е евклидовото растојанието на даден пиксел од центарот на сликата, додека 𝑓ℎ и 𝑓𝑙 се праговите на високите и ниските фреквенции кои сакаме\n",
    "да ги филтрираме.\n",
    "\n",
    "Конверзија на 2D сликата од просторен во фреквенциски домен се прави со користење на Фуриева трансформација. Фуриевата трансформација е дефинирана\n",
    "како:\n",
    "\n",
    "$$ F(u,v) = \\iint \\limits_{-\\infty}^{\\infty} f(x,y)e^{-i2\\pi(ux+vy)}dxdy   $$\n",
    "А во дискретниот домен горната равенка може да биде преведена како:\n",
    "$$ F(u,v) = \\mathop{\\sum_{m=-\\infty}^{\\infty}\\sum_{n=-\\infty}^{\\infty}} f[m,n]\\cdot e^{-i2\\pi(ux+vy)}dudv $$\n",
    "Конверзија на 2D сликата од фреквенциски во просторен домен се прави со користење на инверзна Фуриева трансформација. Инверзната Фуриева\n",
    "трансформација е дефинирана како:\n",
    "\n",
    "$$ F(x,y) = \\iint \\limits_{-\\infty}^{\\infty} f(u,v) e^{-i2\\pi(ux+vy)}dudv   $$\n",
    "А во дискретниот домен горната равенка може да биде преведена како:\n",
    "$$ F(x,y) = \\mathop{\\sum_{m=-\\infty}^{\\infty}\\sum_{n=-\\infty}^{\\infty}} f[m,n] \\cdot e^{-i2\\pi(xmu_0+ynv_0)} $$\n",
    "Целите на оваа домашна е се искористат Фуриеви Трансформации на слики користејки го OpenCV - package во JupyterNotebook и да можеме да искористиме FastFourierTransform(FFT). Ке ги искористиме 2те функции кои ги нуди пакетот OpenCV , односно cv.dft() и cv.idft()\n",
    "\n",
    "Фуриевите Трансформации се користат за да се анализираат фрекфентните карактеристики на различни филтри. За слики , се користи 2D DFT и таа се користи за да се најдат фрекфентните домени. FFT алгоритамот се користи за калкулациите што ги користи DFT(cv.dft()).\n",
    "Ја користиме оваа формула за Дискретна Фуриева трансформација-DFT(Discrete Fourier Transform)\n",
    "$$ Ak = \\sum\\limits<em>{m=0}^{n-1}a</em>{m}exp \\left{ -2 \\pi \\frac{mk}{n} \\right} k=0,....,n-1 $$\n",
    "\n",
    "Ја користиме оваа формула за Инверзна Дискретна Фуриева трансформација- IDFT(Inverse Discrete Fourier Transform)\n",
    "$$ Ak = {1 \\over n} \\sum\\limits<em>{m=0}^{n-1}a</em>{m}exp \\left{ -2 \\pi \\frac{mk}{n} \\right} m=0,....,n-1 $$\n",
    "\n",
    "Фуриеви Трансформации во Numpy\n",
    "Најпрвин користиме FFT што ја поседува пакетот numpy односно np.fft.fft2() таа не снабдува со фрекфенциите кои што се во некоја низа. Функцијата прима како аргумент слика која што мора да бие во grayscale. Вториот аргумент е опционален и тоа е колкава да биде низата. Ако низата е поголема од големината на сликата таа ке биде наполнета со 0, во обратен случан сликата ќе биде скратена до големината на сликата.\n",
    "\n",
    "Одкако ќе го добиеме резултатот , DC компонетната ке ни биде во левиот ќош од низата, за да го донесеме во средина користиме np.fft.fftshift(). Одкако ја пронаоѓаме фрекфенцијата, можеме да го пронајдеме магнитудниот спектрум."
   ]
  },
  {
   "cell_type": "code",
   "execution_count": 68,
   "metadata": {
    "kernel": "Python 3"
   },
   "outputs": [
    {
     "name": "stdout",
     "output_type": "stream",
     "text": [
      "[[ 518.        +1.98951966e-13j   33.2405986 -5.05746372e+02j\n",
      "  -276.54222034+3.26977181e+02j ...   -4.87288438-9.29002608e+00j\n",
      "  -276.54222034-3.26977181e+02j   33.2405986 +5.05746372e+02j]\n",
      " [ 611.89230178-3.55440764e+02j  649.30918323+9.83903570e+02j\n",
      "    62.4911446 +3.24816539e+02j ...  391.12886214-7.99146552e+02j\n",
      "   297.28828234+3.94874883e+02j  152.37937673-6.59912185e+02j]\n",
      " [ 408.07742883-1.31292891e+02j -589.52155475+3.48702369e+01j\n",
      "  -670.16616866+6.34281926e+02j ... 1183.04117109+7.91606984e+02j\n",
      "   633.90027362-5.21066791e+02j  -52.78849789+7.14286819e+02j]\n",
      " ...\n",
      " [ 290.12152403+3.34732392e+02j  380.6889522 +4.51925173e+02j\n",
      "  -652.73601475-2.92095826e+02j ... -197.19669399-6.31871666e+02j\n",
      "   235.04476317+3.83750989e+02j -217.39103914-5.57199039e+02j]\n",
      " [ 408.07742883+1.31292891e+02j  -52.78849789-7.14286819e+02j\n",
      "   633.90027362+5.21066791e+02j ... -184.06941725+2.93544399e+02j\n",
      "  -670.16616866-6.34281926e+02j -589.52155475-3.48702369e+01j]\n",
      " [ 611.89230178+3.55440764e+02j  152.37937673+6.59912185e+02j\n",
      "   297.28828234-3.94874883e+02j ...  268.20526143-4.56175585e+02j\n",
      "    62.4911446 -3.24816539e+02j  649.30918323-9.83903570e+02j]]\n",
      "566\n"
     ]
    }
   ],
   "source": [
    "import numpy as np\n",
    "import cv2\n",
    "import math\n",
    "from matplotlib import pyplot as plt\n",
    "path = r'D:\\downloads\\Domasna_rabota_metodologija\\Barbara.tif'\n",
    "\n",
    "def read_image(path):\n",
    "    img = cv2.imread(path,0) \n",
    "    return img\n",
    "\n",
    "img = read_image(path)\n",
    "# print(img_fft)\n",
    "no_rows = img.shape[0]\n",
    "no_cols = img.shape[1]\n",
    "# print(no_rows)"
   ]
  },
  {
   "cell_type": "code",
   "execution_count": 6,
   "metadata": {
    "kernel": "Python 3"
   },
   "outputs": [],
   "source": [
    "def create_filter(no_rows, no_cols, d0, d1):\n",
    "    filtered_image = np.asarray(np.ones((no_rows, no_cols), dtype=np.float32))\n",
    "    for i in range(0, no_rows-1):\n",
    "        for j in range(0, no_cols-1):\n",
    "#             print(i, j)\n",
    "            dist = math.sqrt(math.pow(i - int(no_rows/2), 2) + math.pow(j - int(no_cols/2), 2))\n",
    "            filtered_image[i+1,j+1] = math.exp(-math.pow(dist, 2)/(2*(math.pow(d1,2))))*(1.0-math.exp(-math.pow(dist, 2)/(2*(math.pow(d0, 2)))))\n",
    "\n",
    "    filtered_image[int(no_rows/2)+1,int(no_cols/2)+1]=1.0\n",
    "#     print(filtered_image[int(no_rows/2)+1,int(no_cols/2)+1])\n",
    "    return filtered_image"
   ]
  },
  {
   "cell_type": "code",
   "execution_count": 107,
   "metadata": {
    "kernel": "Python 3"
   },
   "outputs": [],
   "source": [
    "def im2double(im):\n",
    "    min_val = np.min(im.ravel())\n",
    "    max_val = np.max(im.ravel())\n",
    "    out = (im.astype('float') - min_val) / (max_val - min_val)\n",
    "    return out\n",
    "\n",
    "def get_filtered_image(img, l, h):\n",
    "    fl = 1 + l*10\n",
    "    fh = 1 + h*10\n",
    "    \n",
    "    img_double = img\n",
    "    (nx, ny) = img_double.shape;\n",
    "    img_fft = np.fft.fft(img_double)\n",
    "    img_fft = np.fft.fftshift(np.fft.fft2(img_double));\n",
    "    result_create_filter = create_filter(nx, ny, fl, fh)\n",
    "    img_ifftshift = np.fft.ifftshift(img_fft*result_create_filter)\n",
    "    img_ifft2 = np.fft.ifft2(img_ifftshift)\n",
    "    result = abs(img_ifft2)\n",
    "    return result\n",
    "\n",
    "def get_filter(img, l, h):\n",
    "    fl = 1 + l*10\n",
    "    fh = 1 + h*10\n",
    "    img_double = im2double(img);\n",
    "    (nx, ny) = img_double.shape;\n",
    "    result_create_filter = create_filter(nx, ny, fl, fh)\n",
    "    return result_create_filter\n",
    "\n",
    "from ipywidgets import interactive, widgets, interact, HBox, Label\n",
    "from IPython.display import Javascript\n",
    "\n",
    "def display_images(img, l, h):\n",
    "    filter_img = get_filter(img, l, h)\n",
    "#     print(filter_img)\n",
    "    filtered_image = get_filtered_image(img, l, h)\n",
    "#     vis2 = cv2.cvtColor(filter_img, cv2.COLOR_GRAY2BGR)\n",
    "#     cv2.imshow('l' , vis2 )\n",
    "    plt.imshow(filter_img, cmap='gray')\n",
    "    plt.show()\n",
    "    plt.imshow(filtered_image, cmap='gray')\n",
    "    plt.show()"
   ]
  },
  {
   "cell_type": "code",
   "execution_count": 108,
   "metadata": {
    "kernel": "Python 3"
   },
   "outputs": [
    {
     "data": {
      "application/vnd.jupyter.widget-view+json": {
       "model_id": "cbf7bce67b3d495db8fea487b65b038d",
       "version_major": 2,
       "version_minor": 0
      },
      "text/plain": [
       "interactive(children=(IntRangeSlider(value=(0, 10), description='Frequency cuttofs:', max=10), Output()), _dom…"
      ]
     },
     "metadata": {},
     "output_type": "display_data"
    }
   ],
   "source": [
    "\n",
    "@interact(x=widgets.IntRangeSlider(\n",
    "    value=[0, 10],\n",
    "    min=0., max=10., step=1,\n",
    "    description='Frequency cuttofs:',\n",
    "))\n",
    "\n",
    "def g(x):\n",
    "    l=x[0]\n",
    "    h=x[1]\n",
    "    display_images(img, l, h)"
   ]
  },
  {
   "cell_type": "code",
   "execution_count": null,
   "metadata": {
    "kernel": "Python 3"
   },
   "outputs": [],
   "source": []
  },
  {
   "cell_type": "code",
   "execution_count": null,
   "metadata": {
    "kernel": "Python 3"
   },
   "outputs": [],
   "source": []
  }
 ],
 "metadata": {
  "kernelspec": {
   "display_name": "SoS",
   "language": "sos",
   "name": "sos"
  },
  "language_info": {
   "codemirror_mode": "sos",
   "file_extension": ".sos",
   "mimetype": "text/x-sos",
   "name": "sos",
   "nbconvert_exporter": "sos_notebook.converter.SoS_Exporter",
   "pygments_lexer": "sos"
  },
  "sos": {
   "kernels": [
    [
     "Python 3",
     "python3",
     "python3",
     "",
     ""
    ]
   ],
   "panel": {
    "displayed": true,
    "height": 0
   },
   "version": "0.21.1"
  }
 },
 "nbformat": 4,
 "nbformat_minor": 2
}
